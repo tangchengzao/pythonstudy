{
 "cells": [
  {
   "cell_type": "code",
   "execution_count": 1,
   "metadata": {
    "collapsed": true,
    "pycharm": {
     "is_executing": false
    }
   },
   "outputs": [],
   "source": [
    "import math"
   ]
  },
  {
   "cell_type": "code",
   "execution_count": 2,
   "outputs": [],
   "source": [
    "def calc_shannon_ent(data_set):\n",
    "    num_entries = len(data_set)\n",
    "    label_count = {}\n",
    "    for data in data_set:\n",
    "        current_label = data[-1]\n",
    "        if current_label not in label_count.keys():\n",
    "            label_count[current_label] = 0\n",
    "        label_count[current_label] += 1\n",
    "    shannon_ent = 0.0\n",
    "    for key in label_count.keys():\n",
    "        prob = label_count[key] / num_entries\n",
    "        shannon_ent += -prob * math.log(prob, 2)\n",
    "    return shannon_ent"
   ],
   "metadata": {
    "collapsed": false,
    "pycharm": {
     "name": "#%%\n",
     "is_executing": false
    }
   }
  },
  {
   "cell_type": "code",
   "execution_count": 3,
   "outputs": [
    {
     "data": {
      "text/plain": "0.9709505944546686"
     },
     "metadata": {},
     "output_type": "execute_result",
     "execution_count": 3
    }
   ],
   "source": [
    "g_data_set = [[1, 1, 'yes'],\n",
    "              [1, 1, 'yes'],\n",
    "              [1, 0, 'no'],\n",
    "              [0, 1, 'no'],\n",
    "              [0, 1, 'no']]\n",
    "calc_shannon_ent(g_data_set)"
   ],
   "metadata": {
    "collapsed": false,
    "pycharm": {
     "name": "#%%\n",
     "is_executing": false
    }
   }
  },
  {
   "cell_type": "code",
   "execution_count": null,
   "outputs": [],
   "source": [
    "def split_data_set(data_set, axis, value):\n",
    "    ret_data_set = []\n",
    "    for feat_vec in data_set:\n",
    "        if feat_vec[axis] == value:\n",
    "            reduced_feat_vec = feat_vec[: axis]\n",
    "            reduced_feat_vec.extend(feat_vec[axis + 1: ])\n",
    "            ret_data_set.append(reduced_feat_vec)\n",
    "    return ret_data_set"
   ],
   "metadata": {
    "collapsed": false,
    "pycharm": {
     "name": "#%%\n",
     "is_executing": true
    }
   }
  },
  {
   "cell_type": "code",
   "execution_count": 5,
   "outputs": [
    {
     "data": {
      "text/plain": "[[1, 'no'], [1, 'no']]"
     },
     "metadata": {},
     "output_type": "execute_result",
     "execution_count": 5
    }
   ],
   "source": [
    "split_data_set(g_data_set, 0, 0)"
   ],
   "metadata": {
    "collapsed": false,
    "pycharm": {
     "name": "#%%\n",
     "is_executing": false
    }
   }
  },
  {
   "cell_type": "code",
   "execution_count": null,
   "outputs": [],
   "source": [
    "def choose_best_feature(data_set):\n",
    "    num_features = len(data_set[0]) - 1\n",
    "    base_entropy = calc_shannon_ent(data_set)\n",
    "    best_info_gain = 0.0\n",
    "    best_feature = -1\n",
    "    for i in range(num_features):\n",
    "        feat_list = [example[i] for example in data_set]\n",
    "        unique_vals = set(feat_list)\n",
    "        new_entropy = 0.0\n",
    "        for value in unique_vals:\n",
    "            sub_data_set = split_data_set(data_set, i, value)\n",
    "            prob = len(sub_data_set) / float(len(data_set))\n",
    "            new_entropy += prob * calc_shannon_ent(sub_data_set)\n",
    "        info_gain = base_entropy - new_entropy\n",
    "        if info_gain > best_info_gain:\n",
    "            best_info_gain = info_gain\n",
    "            best_feature = i\n",
    "    return best_feature\n"
   ],
   "metadata": {
    "collapsed": false,
    "pycharm": {
     "name": "#%%\n"
    }
   }
  }
 ],
 "metadata": {
  "language_info": {
   "codemirror_mode": {
    "name": "ipython",
    "version": 2
   },
   "file_extension": ".py",
   "mimetype": "text/x-python",
   "name": "python",
   "nbconvert_exporter": "python",
   "pygments_lexer": "ipython2",
   "version": "2.7.6"
  },
  "kernelspec": {
   "name": "python3",
   "language": "python",
   "display_name": "Python 3"
  },
  "pycharm": {
   "stem_cell": {
    "cell_type": "raw",
    "source": [],
    "metadata": {
     "collapsed": false
    }
   }
  }
 },
 "nbformat": 4,
 "nbformat_minor": 0
}