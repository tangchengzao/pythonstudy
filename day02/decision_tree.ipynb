{
 "cells": [
  {
   "cell_type": "code",
   "execution_count": 1,
   "metadata": {
    "collapsed": true,
    "pycharm": {
     "is_executing": false
    }
   },
   "outputs": [],
   "source": [
    "import copy\n",
    "import math\n",
    "import pickle\n",
    "import operator\n",
    "import matplotlib\n",
    "import matplotlib.pyplot as plt"
   ]
  },
  {
   "cell_type": "code",
   "execution_count": null,
   "outputs": [],
   "source": [
    "def calc_shannon_ent(data_set):\n",
    "    num_entries = len(data_set)\n",
    "    label_count = {}\n",
    "    for data in data_set:\n",
    "        current_label = data[-1]\n",
    "        if current_label not in label_count.keys():\n",
    "            label_count[current_label] = 0\n",
    "        label_count[current_label] += 1\n",
    "    shannon_ent = 0.0\n",
    "    for key in label_count.keys():\n",
    "        prob = label_count[key] / num_entries\n",
    "        shannon_ent += -prob * math.log(prob, 2)\n",
    "    return shannon_ent"
   ],
   "metadata": {
    "collapsed": false,
    "pycharm": {
     "name": "#%%\n",
     "is_executing": true
    }
   }
  },
  {
   "cell_type": "code",
   "execution_count": 3,
   "outputs": [
    {
     "data": {
      "text/plain": "0.9709505944546686"
     },
     "metadata": {},
     "output_type": "execute_result",
     "execution_count": 3
    }
   ],
   "source": [
    "g_data_set = [[1, 1, 'yes'],\n",
    "              [1, 1, 'yes'],\n",
    "              [1, 0, 'no'],\n",
    "              [0, 1, 'no'],\n",
    "              [0, 1, 'no']]\n",
    "g_labels = ['no surfacing', 'flippers']\n",
    "calc_shannon_ent(g_data_set)"
   ],
   "metadata": {
    "collapsed": false,
    "pycharm": {
     "name": "#%%\n",
     "is_executing": false
    }
   }
  },
  {
   "cell_type": "code",
   "execution_count": 4,
   "outputs": [],
   "source": [
    "def split_data_set(data_set, axis, value):\n",
    "    ret_data_set = []\n",
    "    for feat_vec in data_set:\n",
    "        if feat_vec[axis] == value:\n",
    "            reduced_feat_vec = feat_vec[: axis]\n",
    "            reduced_feat_vec.extend(feat_vec[axis + 1: ])\n",
    "            ret_data_set.append(reduced_feat_vec)\n",
    "    return ret_data_set"
   ],
   "metadata": {
    "collapsed": false,
    "pycharm": {
     "name": "#%%\n",
     "is_executing": false
    }
   }
  },
  {
   "cell_type": "code",
   "execution_count": 5,
   "outputs": [
    {
     "data": {
      "text/plain": "[[1, 'no'], [1, 'no']]"
     },
     "metadata": {},
     "output_type": "execute_result",
     "execution_count": 5
    }
   ],
   "source": [
    "split_data_set(g_data_set, 0, 0)"
   ],
   "metadata": {
    "collapsed": false,
    "pycharm": {
     "name": "#%%\n",
     "is_executing": false
    }
   }
  },
  {
   "cell_type": "code",
   "execution_count": 6,
   "outputs": [],
   "source": [
    "def choose_best_feature(data_set):\n",
    "    num_features = len(data_set[0]) - 1\n",
    "    base_entropy = calc_shannon_ent(data_set)\n",
    "    best_info_gain = 0.0\n",
    "    best_feature = -1\n",
    "    for i in range(num_features):\n",
    "        feat_list = [example[i] for example in data_set]\n",
    "        unique_vals = set(feat_list)\n",
    "        new_entropy = 0.0\n",
    "        for value in unique_vals:\n",
    "            sub_data_set = split_data_set(data_set, i, value)\n",
    "            prob = len(sub_data_set) / float(len(data_set))\n",
    "            new_entropy += prob * calc_shannon_ent(sub_data_set)\n",
    "        info_gain = base_entropy - new_entropy\n",
    "        if info_gain > best_info_gain:\n",
    "            best_info_gain = info_gain\n",
    "            best_feature = i\n",
    "    return best_feature"
   ],
   "metadata": {
    "collapsed": false,
    "pycharm": {
     "name": "#%%\n",
     "is_executing": false
    }
   }
  },
  {
   "cell_type": "code",
   "execution_count": 7,
   "outputs": [
    {
     "data": {
      "text/plain": "0"
     },
     "metadata": {},
     "output_type": "execute_result",
     "execution_count": 7
    }
   ],
   "source": [
    "choose_best_feature(data_set=g_data_set)"
   ],
   "metadata": {
    "collapsed": false,
    "pycharm": {
     "name": "#%%\n",
     "is_executing": false
    }
   }
  },
  {
   "cell_type": "code",
   "execution_count": 8,
   "outputs": [],
   "source": [
    "def majority_cnt(class_list):\n",
    "    class_count = {}\n",
    "    for vote in class_list:\n",
    "        if vote not in class_count.keys():\n",
    "            class_count[vote] = 0\n",
    "        class_count[vote] += 1\n",
    "    sorted_class_count = sorted(class_count.items(), key=operator.itemgetter(1), reverse=True)\n",
    "    return sorted_class_count[0][0]"
   ],
   "metadata": {
    "collapsed": false,
    "pycharm": {
     "name": "#%%\n",
     "is_executing": false
    }
   }
  },
  {
   "cell_type": "code",
   "execution_count": 9,
   "outputs": [],
   "source": [
    "def create_tree(data_set, labels):\n",
    "    class_list = [example[-1] for example in data_set]\n",
    "    if class_list.count(class_list[0]) == len(class_list):\n",
    "        return class_list[0]\n",
    "    if len(data_set[0]) == 1:\n",
    "        return majority_cnt(class_list)\n",
    "    best_feat = choose_best_feature(data_set)\n",
    "    best_feat_label = labels[best_feat]\n",
    "    my_tree = {best_feat_label:{}}\n",
    "    del labels[best_feat]\n",
    "    feat_values = [example[best_feat] for example in data_set]\n",
    "    unique_vals = set(feat_values)\n",
    "    for value in unique_vals:\n",
    "        sub_labels = labels[:]\n",
    "        my_tree[best_feat_label][value] = create_tree(split_data_set(data_set, best_feat, value), sub_labels)\n",
    "    return my_tree"
   ],
   "metadata": {
    "collapsed": false,
    "pycharm": {
     "name": "#%%\n",
     "is_executing": false
    }
   }
  },
  {
   "cell_type": "code",
   "execution_count": 10,
   "outputs": [
    {
     "data": {
      "text/plain": "{'no surfacing': {0: 'no', 1: {'flippers': {0: 'no', 1: 'yes'}}}}"
     },
     "metadata": {},
     "output_type": "execute_result",
     "execution_count": 10
    }
   ],
   "source": [
    "create_tree(data_set=copy.deepcopy(g_data_set), labels=copy.deepcopy(g_labels))"
   ],
   "metadata": {
    "collapsed": false,
    "pycharm": {
     "name": "#%%\n",
     "is_executing": false
    }
   }
  },
  {
   "cell_type": "code",
   "execution_count": 11,
   "outputs": [],
   "source": [
    "%matplotlib inline\n",
    "g_decision_node = dict(boxstyle=\"sawtooth\", fc=\"0.8\")\n",
    "g_leaf_node = dict(boxstyle=\"round4\", fc=\"0.8\")\n",
    "g_arrow_args = dict(arrowstyle=\"<-\")\n",
    "font = {'family': \"SimHei\"}\n",
    "matplotlib.rc('font', **font)"
   ],
   "metadata": {
    "collapsed": false,
    "pycharm": {
     "name": "#%%\n",
     "is_executing": false
    }
   }
  },
  {
   "cell_type": "code",
   "execution_count": 12,
   "outputs": [],
   "source": [
    "def create_plot():\n",
    "    fig = plt.figure(1, facecolor=\"white\")\n",
    "    fig.clf()\n",
    "    create_plot.ax1 = plt.subplot(111, frameon=False)\n",
    "    plot_node('决策节点', (0.5, 0.1), (0.1, 0.5), g_decision_node)\n",
    "    plot_node('叶节点', (0.8, 0.1), (0.3, 0.8), g_leaf_node)\n",
    "    plt.show()\n",
    "\n",
    "def plot_node(node_txt, center_pt, parent_pt, node_type):\n",
    "    create_plot.ax1.annotate(node_txt, xy=parent_pt, xycoords='axes fraction', xytext=center_pt,\n",
    "                             textcoords='axes fraction', va='center', ha='center', bbox=node_type, arrowprops=g_arrow_args)"
   ],
   "metadata": {
    "collapsed": false,
    "pycharm": {
     "name": "#%%\n",
     "is_executing": false
    }
   }
  },
  {
   "cell_type": "code",
   "execution_count": 13,
   "outputs": [
    {
     "data": {
      "text/plain": "<Figure size 432x288 with 1 Axes>",
      "image/png": "[encoded data removed]"
     },
     "metadata": {},
     "output_type": "display_data"
    }
   ],
   "source": [
    "create_plot()"
   ],
   "metadata": {
    "collapsed": false,
    "pycharm": {
     "name": "#%%\n",
     "is_executing": false
    }
   }
  },
  {
   "cell_type": "code",
   "execution_count": 14,
   "outputs": [],
   "source": [
    "def get_num_leafs(my_tree:dict):\n",
    "    num_leafs = 0\n",
    "    first_str = list(my_tree.keys())[0]\n",
    "    second_dict = my_tree[first_str]\n",
    "    for key in second_dict.keys():\n",
    "        if type(second_dict[key]).__name__ == 'dict':\n",
    "            num_leafs += get_num_leafs(second_dict[key])\n",
    "        else:\n",
    "            num_leafs += 1\n",
    "    return num_leafs\n",
    "def get_tree_depth(my_tree):\n",
    "    max_depth = 0\n",
    "    first_str = list(my_tree.keys())[0]\n",
    "    second_dict = my_tree[first_str]\n",
    "    for key in second_dict.keys():\n",
    "        if type(second_dict[key]).__name__ == 'dict':\n",
    "            this_depth =  1 + get_tree_depth(second_dict[key])\n",
    "        else:\n",
    "            this_depth = 1\n",
    "        if this_depth > max_depth:\n",
    "            max_depth = this_depth\n",
    "    return max_depth"
   ],
   "metadata": {
    "collapsed": false,
    "pycharm": {
     "name": "#%%\n",
     "is_executing": false
    }
   }
  },
  {
   "cell_type": "code",
   "execution_count": 15,
   "outputs": [
    {
     "data": {
      "text/plain": "{'no surfacing': {0: 'no', 1: {'flippers': {0: 'no', 1: 'yes'}}}}"
     },
     "metadata": {},
     "output_type": "execute_result",
     "execution_count": 15
    }
   ],
   "source": [
    "g_my_tree = create_tree(data_set=copy.deepcopy(g_data_set), labels=copy.deepcopy(g_labels))\n",
    "g_my_tree"
   ],
   "metadata": {
    "collapsed": false,
    "pycharm": {
     "name": "#%%\n",
     "is_executing": false
    }
   }
  },
  {
   "cell_type": "code",
   "execution_count": 16,
   "outputs": [
    {
     "data": {
      "text/plain": "2"
     },
     "metadata": {},
     "output_type": "execute_result",
     "execution_count": 16
    }
   ],
   "source": [
    "get_tree_depth(g_my_tree)"
   ],
   "metadata": {
    "collapsed": false,
    "pycharm": {
     "name": "#%%\n",
     "is_executing": false
    }
   }
  },
  {
   "cell_type": "code",
   "execution_count": 17,
   "outputs": [
    {
     "data": {
      "text/plain": "3"
     },
     "metadata": {},
     "output_type": "execute_result",
     "execution_count": 17
    }
   ],
   "source": [
    "get_num_leafs(g_my_tree)"
   ],
   "metadata": {
    "collapsed": false,
    "pycharm": {
     "name": "#%%\n",
     "is_executing": false
    }
   }
  },
  {
   "cell_type": "code",
   "execution_count": 18,
   "outputs": [
    {
     "data": {
      "text/plain": "<Figure size 432x288 with 1 Axes>",
      "image/png": "[encoded data removed]"
     },
     "metadata": {},
     "output_type": "display_data"
    }
   ],
   "source": [
    "def plot_mid_text(cntr_pt, parent_pt, txt_string):\n",
    "    x_mid = (parent_pt[0] + cntr_pt[0])/2.0\n",
    "    y_mid = (parent_pt[1] + cntr_pt[1])/2.0\n",
    "    create_plot.ax1.text(x_mid, y_mid, txt_string)\n",
    "\n",
    "def plot_tree(my_tree:dict, parent_pt, node_txt):\n",
    "    num_leafs = get_num_leafs(my_tree)\n",
    "    depth = get_tree_depth(my_tree)\n",
    "    first_str = list(my_tree.keys())[0]\n",
    "    cntr_pt = (plot_tree.x_off + (1.0 + float(num_leafs))/2.0/plot_tree.total_w, plot_tree.y_off)\n",
    "    plot_mid_text(cntr_pt, parent_pt, node_txt)\n",
    "    plot_node(first_str, cntr_pt, parent_pt, g_decision_node)\n",
    "    second_dict = my_tree[first_str]\n",
    "    plot_tree.y_off = plot_tree.y_off - 1.0/plot_tree.total_d\n",
    "    for key in second_dict.keys():\n",
    "        if type(second_dict[key]).__name__ == 'dict':\n",
    "            plot_tree(second_dict[key], cntr_pt, str(key))\n",
    "        else:\n",
    "            plot_tree.x_off = plot_tree.x_off + 1.0/plot_tree.total_w\n",
    "            plot_node(second_dict[key], (plot_tree.x_off, plot_tree.y_off), cntr_pt, g_leaf_node)\n",
    "            plot_mid_text((plot_tree.x_off, plot_tree.y_off), cntr_pt, str(key))\n",
    "    plot_tree.y_off = plot_tree.y_off + 1.0/plot_tree.total_d\n",
    "\n",
    "def create_plot(in_tree):\n",
    "    fig = plt.figure(1, facecolor='white')\n",
    "    fig.clf()\n",
    "    axprops = dict(xticks=[], yticks=[])\n",
    "    create_plot.ax1 = plt.subplot(111, frameon=False, **axprops)\n",
    "    plot_tree.total_w = float(get_num_leafs(in_tree))\n",
    "    plot_tree.total_d = float(get_tree_depth(in_tree))\n",
    "    plot_tree.x_off = -0.5/plot_tree.total_w\n",
    "    plot_tree.y_off = 1.0\n",
    "    plot_tree(in_tree, (0.5, 1.0), '')\n",
    "    plt.show()\n",
    "create_plot(g_my_tree)"
   ],
   "metadata": {
    "collapsed": false,
    "pycharm": {
     "name": "#%%\n",
     "is_executing": false
    }
   }
  },
  {
   "cell_type": "code",
   "execution_count": 19,
   "outputs": [],
   "source": [
    "def classify(input_tree, feat_labels, test_vec):\n",
    "    first_str = list(input_tree.keys())[0]\n",
    "    second_dict = input_tree[first_str]\n",
    "    feat_index = feat_labels.index(first_str)\n",
    "    for key in second_dict.keys():\n",
    "        if test_vec[feat_index] == key:\n",
    "            if type(second_dict[key]) is dict:\n",
    "                class_label = classify(second_dict[key], feat_labels, test_vec)\n",
    "            else:\n",
    "                class_label = second_dict[key]\n",
    "    return class_label"
   ],
   "metadata": {
    "collapsed": false,
    "pycharm": {
     "name": "#%%\n",
     "is_executing": false
    }
   }
  },
  {
   "cell_type": "code",
   "execution_count": 20,
   "outputs": [
    {
     "data": {
      "text/plain": "'yes'"
     },
     "metadata": {},
     "output_type": "execute_result",
     "execution_count": 20
    }
   ],
   "source": [
    "classify(g_my_tree, g_labels, [1, 1])"
   ],
   "metadata": {
    "collapsed": false,
    "pycharm": {
     "name": "#%%\n",
     "is_executing": false
    }
   }
  },
  {
   "cell_type": "code",
   "execution_count": 21,
   "outputs": [],
   "source": [
    "def store_tree(input_tree, filename):\n",
    "    with open(filename, 'wb') as fw:\n",
    "        pickle.dump(input_tree, fw)\n",
    "\n",
    "def grab_tree(filename):\n",
    "    with open(filename, 'rb') as fr:\n",
    "        return pickle.load(fr)"
   ],
   "metadata": {
    "collapsed": false,
    "pycharm": {
     "name": "#%%\n",
     "is_executing": false
    }
   }
  },
  {
   "cell_type": "code",
   "execution_count": 22,
   "outputs": [],
   "source": [
    "store_tree(g_my_tree, 'D:/classifier_storage.txt')"
   ],
   "metadata": {
    "collapsed": false,
    "pycharm": {
     "name": "#%%\n",
     "is_executing": false
    }
   }
  },
  {
   "cell_type": "code",
   "execution_count": 23,
   "outputs": [
    {
     "data": {
      "text/plain": "{'no surfacing': {0: 'no', 1: {'flippers': {0: 'no', 1: 'yes'}}}}"
     },
     "metadata": {},
     "output_type": "execute_result",
     "execution_count": 23
    }
   ],
   "source": [
    "grab_tree('D:/classifier_storage.txt')"
   ],
   "metadata": {
    "collapsed": false,
    "pycharm": {
     "name": "#%%\n",
     "is_executing": false
    }
   }
  },
  {
   "cell_type": "code",
   "execution_count": 25,
   "outputs": [
    {
     "name": "stdout",
     "text": [
      "{'tearRate': {'normal': {'astigmatic': {'no': {'age': {'presbyopic': {'prescript': {'hyper': 'soft', 'myope': 'no lenses'}}, 'pre': 'soft', 'young': 'soft'}}, 'yes': {'prescript': {'hyper': {'age': {'presbyopic': 'no lenses', 'pre': 'no lenses', 'young': 'hard'}}, 'myope': 'hard'}}}}, 'reduced': 'no lenses'}}\n"
     ],
     "output_type": "stream"
    },
    {
     "data": {
      "text/plain": "<Figure size 432x288 with 1 Axes>",
      "image/png": "[encoded data removed]"
     },
     "metadata": {},
     "output_type": "display_data"
    }
   ],
   "source": [
    "with open('D:/data/ch03/lenses.txt') as fr:\n",
    "    lenses = [inst.strip().split('\\t') for inst in fr.readlines()]\n",
    "    lenses_labels = ['age', 'prescript', 'astigmatic', 'tearRate']\n",
    "    lenses_tree = create_tree(lenses, lenses_labels)\n",
    "    print(lenses_tree)\n",
    "    create_plot(lenses_tree)"
   ],
   "metadata": {
    "collapsed": false,
    "pycharm": {
     "name": "#%%\n",
     "is_executing": false
    }
   }
  },
  {
   "cell_type": "code",
   "execution_count": null,
   "outputs": [],
   "source": [
    "\n"
   ],
   "metadata": {
    "collapsed": false,
    "pycharm": {
     "name": "#%%\n"
    }
   }
  }
 ],
 "metadata": {
  "language_info": {
   "codemirror_mode": {
    "name": "ipython",
    "version": 2
   },
   "file_extension": ".py",
   "mimetype": "text/x-python",
   "name": "python",
   "nbconvert_exporter": "python",
   "pygments_lexer": "ipython2",
   "version": "2.7.6"
  },
  "kernelspec": {
   "name": "python3",
   "language": "python",
   "display_name": "Python 3"
  },
  "pycharm": {
   "stem_cell": {
    "cell_type": "raw",
    "source": [],
    "metadata": {
     "collapsed": false
    }
   }
  }
 },
 "nbformat": 4,
 "nbformat_minor": 0
}